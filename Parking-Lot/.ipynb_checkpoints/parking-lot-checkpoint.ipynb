{
 "cells": [
  {
   "cell_type": "markdown",
   "id": "911d385a-ba63-493b-bb0d-f48ce66cf327",
   "metadata": {},
   "source": [
    "# Introduction to the problem"
   ]
  },
  {
   "cell_type": "markdown",
   "id": "e74833ed-e456-4fbd-8f8c-8f0a81cad815",
   "metadata": {
    "editable": true,
    "slideshow": {
     "slide_type": ""
    },
    "tags": []
   },
   "source": [
    "For this question, you need to have a conversation with the interviewer to understand what type of vehicles it can support and whether the parking lot has multiple levels and so on. Parking can be free or it can be charged. It can be charged in a number of different ways (it can be free for the first hour, paid for the next few). Charges can also be different depending on how big the vehicle is, etc. \n",
    "\n",
    "Q. How many floors are going to be there in this parking lot? \n",
    "\n",
    "Q. What kinds of vehicles will be parked? Will their sizes differ and do I need to account for that in the parking lot? Do I need to have designated spots for that in the parking lot? \n",
    "\n",
    "Q. Is there a payment sort of system where the driver is assigned a parking spot? \n",
    "\n",
    "For this exercise, let's assume the following. \n",
    "\n",
    "A. There are multiple floors \n",
    "B. Different types of vehicles exist that can be parked. (Cars, Limos and Semi Trucks). Car will take up 1 parking spot, Limos 2 and Semi Trucks 3. The vehicles need to take up consecutive parking spots.  \n",
    "\n",
    "C. There will be a payment system that will assign a spot to the driver and will charge them once they leave the parking spot. The payment system will assign a spot based on the lowest spot available in the parking garage. "
   ]
  },
  {
   "cell_type": "code",
   "execution_count": 45,
   "id": "54935dd0-229c-45fd-8c3e-99ab76ebd743",
   "metadata": {},
   "outputs": [],
   "source": [
    "from typing import Optional"
   ]
  },
  {
   "cell_type": "code",
   "execution_count": 46,
   "id": "9573b6f2-a475-4539-b8f9-d17f13f37962",
   "metadata": {},
   "outputs": [],
   "source": [
    "class Vehicle:\n",
    "    def __init__(self, spotSize):\n",
    "        self.spotSize = spotSize \n",
    "\n",
    "    def getSpotSize(self):\n",
    "        return self.spotSize "
   ]
  },
  {
   "cell_type": "code",
   "execution_count": 47,
   "id": "4094cd11-d60f-4e87-9054-c49a274e098f",
   "metadata": {},
   "outputs": [],
   "source": [
    "class Driver: \n",
    "    def __init__(self, idNumber, vehicle):\n",
    "        self.id = idNumber \n",
    "        self.vehicle = vehicle \n",
    "        self.paymentDue = 0 \n",
    "\n",
    "    def getVehicle(self):\n",
    "        return self.vehicle \n",
    "\n",
    "    def getId(self):\n",
    "        return self.id \n",
    "\n",
    "    def charge(self, amount):\n",
    "        self.paymentDue += amount "
   ]
  },
  {
   "cell_type": "code",
   "execution_count": 48,
   "id": "ce64dac9-ad23-4119-be09-7fb3f371fd85",
   "metadata": {},
   "outputs": [],
   "source": [
    "class Car(Vehicle): \n",
    "    def __init__(self):\n",
    "        super().__init__(1)\n",
    "        \n",
    "class Limo(Vehicle):\n",
    "    def __init__(self):\n",
    "        super().__init__(2)\n",
    "\n",
    "class Truck(Vehicle):\n",
    "    def __init__(self):\n",
    "        super().__init__(3)"
   ]
  },
  {
   "cell_type": "code",
   "execution_count": 49,
   "id": "dab96516-cfa8-444c-b255-883f39326815",
   "metadata": {},
   "outputs": [],
   "source": [
    "class ParkingFloor: \n",
    "    def __init__(self, spotCount):\n",
    "        self.spots = [0] * spotCount \n",
    "        self.vehicleMap = {} \n",
    "\n",
    "    def parkVehicle(self, vehicle: Vehicle) -> bool:\n",
    "        size = vehicle.getSpotSize() \n",
    "\n",
    "        # Sliding window algorithm \n",
    "        l, r = 0, 0 \n",
    "        while r < len(self.spots):\n",
    "            if self.spots[r] != 0: \n",
    "                l = r + 1 \n",
    "            \n",
    "            if r - l + 1 == size: \n",
    "                # We found enough spots, park the vehicle \n",
    "                for i in range(l, r + 1): \n",
    "                    self.spots[i] =  1 \n",
    "                    self.vehicleMap[vehicle] = [l, r]\n",
    "                    return True \n",
    "            \n",
    "            r += 1 \n",
    "        return False \n",
    "\n",
    "    def removeVehicle(self, vehicle): \n",
    "        start, end = self.vehicleMap[vehicle] \n",
    "        for i in range(start, end + 1):\n",
    "            self.spots[i] = 0 \n",
    "\n",
    "        del self.vehicleMap[vehicle] \n",
    "\n",
    "    def getParkingSpots(self):\n",
    "        return self.spots\n",
    "\n",
    "    def getVehicleSpots(self, vehicle):\n",
    "        if vehicle in self.vehicleMap:\n",
    "            return self.vehicleMap[vehicle]\n",
    "\n",
    "        return None"
   ]
  },
  {
   "cell_type": "code",
   "execution_count": 50,
   "id": "55aaf6eb-34d6-403e-b240-b62335bbcda9",
   "metadata": {},
   "outputs": [],
   "source": [
    "class ParkingGarage: \n",
    "    def __init__(self, floorCount, spotsPerFloor):\n",
    "        self.parkingFloors = [] \n",
    "        for i in range(0, floorCount):\n",
    "            self.parkingFloors.append(ParkingFloor(spotsPerFloor))\n",
    "\n",
    "    def parkVehicle(self, vehicle): \n",
    "        for i in range(0, len(self.parkingFloors)):\n",
    "            parkingFloor = self.parkingFloors[i] \n",
    "            if parkingFloor.parkVehicle(vehicle):\n",
    "                return True \n",
    "\n",
    "        return False\n",
    "\n",
    "    def removeVehicle(self, vehicle):\n",
    "        for i in range(0, len(self.parkingFloors)):\n",
    "            parkingFloor = self.parkingFloors[i] \n",
    "            if parkingFloor.getVehicleSpots(vehicle) is not None:\n",
    "                parkingFloor.removeVehicle(vehicle)\n",
    "\n",
    "                return True \n",
    "\n",
    "        return False\n",
    "                "
   ]
  },
  {
   "cell_type": "code",
   "execution_count": 51,
   "id": "73185066-cd8e-46f4-ab4f-2ee3b5cd3cb4",
   "metadata": {
    "editable": true,
    "slideshow": {
     "slide_type": ""
    },
    "tags": []
   },
   "outputs": [],
   "source": [
    "import datetime \n",
    "import math \n",
    "\n",
    "class ParkingSystem: \n",
    "    def __init__(self, parkingGarage, hourlyRate):\n",
    "        self.parkingGarage = parkingGarage \n",
    "        self.hourlyRate = hourlyRate \n",
    "        self.timeParked = {} # Map driver ID to the time they parked \n",
    "\n",
    "    def parkVehicle(self, driver):\n",
    "        currentHour = datetime.datetime.now().hour \n",
    "        isParked = self.parkingGarage.parkVehicle(driver.getVehicle())\n",
    "\n",
    "        if isParked: \n",
    "            self.timeParked[driver.getId()] = currentHour\n",
    "\n",
    "        return isParked\n",
    "\n",
    "    def removeVehicle(self, driver):\n",
    "        if driver.getId() not in self.timeParked:\n",
    "            return False \n",
    "\n",
    "        currentHour = datetime.datetime.now().hour\n",
    "        timeParked = math.ceil(currentHour - self.timeParked[driver.getId()])\n",
    "        driver.charge(timeParked * self.hourlyRate)\n",
    "\n",
    "        del self.timeParked[driver.getId()]\n",
    "        return self.parkingGarage.removeVehicle(driver.getVehicle())"
   ]
  },
  {
   "cell_type": "code",
   "execution_count": 55,
   "id": "5bebd58b-11df-4920-b6a6-d79538dba426",
   "metadata": {},
   "outputs": [
    {
     "name": "stdout",
     "output_type": "stream",
     "text": [
      "True\n",
      "True\n",
      "False\n",
      "True\n",
      "True\n",
      "False\n"
     ]
    }
   ],
   "source": [
    "parkingGarage = ParkingGarage(3, 2)\n",
    "parkingSystem = ParkingSystem(parkingGarage, 5)\n",
    "\n",
    "driver1 = Driver(1, Car())\n",
    "driver2 = Driver(2, Limo())\n",
    "driver3 = Driver(3, Truck()) \n",
    "\n",
    "print(parkingSystem.parkVehicle(driver1))      # true\n",
    "print(parkingSystem.parkVehicle(driver2))      # true\n",
    "print(parkingSystem.parkVehicle(driver3))      # false\n",
    "\n",
    "print(parkingSystem.removeVehicle(driver1))    # true\n",
    "print(parkingSystem.removeVehicle(driver2))    # true\n",
    "print(parkingSystem.removeVehicle(driver3))    # false"
   ]
  },
  {
   "cell_type": "code",
   "execution_count": null,
   "id": "9d3a85d7-eeaa-4184-afbd-cb0f384d74ee",
   "metadata": {},
   "outputs": [],
   "source": []
  },
  {
   "cell_type": "code",
   "execution_count": null,
   "id": "83817680-aeb0-473c-bf3a-d811824447cf",
   "metadata": {},
   "outputs": [],
   "source": []
  }
 ],
 "metadata": {
  "kernelspec": {
   "display_name": "Python 3 (ipykernel)",
   "language": "python",
   "name": "python3"
  },
  "language_info": {
   "codemirror_mode": {
    "name": "ipython",
    "version": 3
   },
   "file_extension": ".py",
   "mimetype": "text/x-python",
   "name": "python",
   "nbconvert_exporter": "python",
   "pygments_lexer": "ipython3",
   "version": "3.13.2"
  }
 },
 "nbformat": 4,
 "nbformat_minor": 5
}
