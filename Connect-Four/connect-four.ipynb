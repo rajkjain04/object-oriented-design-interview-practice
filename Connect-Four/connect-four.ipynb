{
 "cells": [
  {
   "cell_type": "markdown",
   "id": "ce4d0194-b6b2-4c25-ae37-f029c33926e7",
   "metadata": {},
   "source": [
    "# Design Connect Four "
   ]
  },
  {
   "cell_type": "markdown",
   "id": "50404a3e-4b9d-46c3-8a8e-34a67ddc5fec",
   "metadata": {},
   "source": [
    "Player vs Player. There is a grid with n rows and m columns. Design Connect N. A player will win the game if they have connected their piece N times in a row, either vertically or horizontally.  "
   ]
  },
  {
   "cell_type": "markdown",
   "id": "56546b52-3c1d-42e8-afc6-f35cea1381b6",
   "metadata": {},
   "source": [
    "High level design: \n",
    "\n",
    "1. Grid Class - Represent the state of the board. For every position, we know the state of that position. The position could be empty or occupied by the red/yellow player. Use an enum for this. Place pieces in this grid. placePiece(col, piece) \n",
    "\n",
    "2. Game class - Composed of the grid. play() -> playRound() -> playMove()\n",
    "\n",
    "3. Player class - Two players, where the player is assigned red or yellow. \n"
   ]
  },
  {
   "cell_type": "code",
   "execution_count": 111,
   "id": "5339273d-5d8f-476f-8cdc-744edb98f15b",
   "metadata": {},
   "outputs": [],
   "source": [
    "import enum\n",
    "from typing import Optional"
   ]
  },
  {
   "cell_type": "code",
   "execution_count": 112,
   "id": "eaa306c8-c261-42f2-bae3-810ebcdd6626",
   "metadata": {},
   "outputs": [],
   "source": [
    "class GridPosition(enum.Enum):\n",
    "    EMPTY = 0, \n",
    "    YELLOW = 1 \n",
    "    RED = 2 "
   ]
  },
  {
   "cell_type": "code",
   "execution_count": 113,
   "id": "de71b0a9-7a40-4adc-9723-6221f69d19e8",
   "metadata": {},
   "outputs": [],
   "source": [
    "class Grid:\n",
    "    def __init__(self, rows, columns): \n",
    "        self.rows = rows \n",
    "        self.columns = columns \n",
    "        self.grid = [] \n",
    "        self.initGrid() \n",
    "\n",
    "    def initGrid(self):\n",
    "        for i in range(0, self.rows):\n",
    "            row = [] \n",
    "            for j in range(0, self.columns):\n",
    "                row.append(GridPosition.EMPTY)\n",
    "\n",
    "            self.grid.append(row)\n",
    "\n",
    "    def getGrid(self):\n",
    "        return self.grid\n",
    "\n",
    "    def getRows(self):\n",
    "        return self.rows \n",
    "\n",
    "    def getColumns(self):\n",
    "        return self.columns \n",
    "\n",
    "    def placePiece(self, column, piece):\n",
    "        if column < 0 or column >= self.columns:\n",
    "            raise ValueError('Invalid column')\n",
    "\n",
    "        if piece == GridPosition.EMPTY:\n",
    "            raise ValueError('Invalid column')\n",
    "\n",
    "        for row in range(self.rows - 1, -1, -1):\n",
    "            if self.grid[row][column] == GridPosition.EMPTY: \n",
    "                self.grid[row][column] = piece \n",
    "                return row\n"
   ]
  },
  {
   "cell_type": "code",
   "execution_count": 114,
   "id": "58856c2e-dbaa-438e-a42f-142f33874fed",
   "metadata": {
    "editable": true,
    "slideshow": {
     "slide_type": ""
    },
    "tags": []
   },
   "outputs": [],
   "source": [
    "class Player: \n",
    "    def __init__(self, name, pieceColor): \n",
    "        self.name = name \n",
    "        self.pieceColor = pieceColor \n",
    "\n",
    "    def getName(self):\n",
    "        return self.name \n",
    "\n",
    "    def getPieceColor(self):\n",
    "        return self.pieceColor"
   ]
  },
  {
   "cell_type": "code",
   "execution_count": 115,
   "id": "fc3f8bcb-4944-4d1b-9dfd-77e4c217cdba",
   "metadata": {},
   "outputs": [],
   "source": [
    "class Game:\n",
    "    def __init__(self, grid, connectN, targetScore):\n",
    "        self.grid = grid \n",
    "        self.connectN = connectN \n",
    "        self.targetScore = targetScore \n",
    "\n",
    "        self.players = [Player('Player 1', GridPosition.YELLOW), Player('Player 2', GridPosition.RED)]\n",
    "\n",
    "        self.score = {} \n",
    "        for player in self.players:\n",
    "            self.score[player.getName()] = 0 \n",
    "\n",
    "    def printBoard(self):\n",
    "        print(\"Board\")\n",
    "        actualGrid = self.grid.getGrid() \n",
    "        for i in range(len(actualGrid)):\n",
    "            row = actualGrid[i] \n",
    "            output = \"\" \n",
    "            for piece in row: \n",
    "                if piece == GridPosition.EMPTY:\n",
    "                    output += '0 '\n",
    "                elif piece == GridPosition.YELLOW: \n",
    "                    output += 'Y '\n",
    "                else:\n",
    "                    output += 'R ' \n",
    "            print(output) \n",
    "        print() \n",
    "\n",
    "    def checkWin(self, row, col, piece):\n",
    "        count = 0 \n",
    "        rows = self.grid.getRows() \n",
    "        cols = self.grid.getColumns() \n",
    "        \n",
    "        # Check horizontal \n",
    "        for c in range(cols):\n",
    "            if self.grid.getGrid()[row][c] == piece:\n",
    "                count += 1 \n",
    "            else:\n",
    "                count = 0 \n",
    "            if count == self.connectN:\n",
    "                return True\n",
    " \n",
    "        # Check vertical \n",
    "        count = 0 \n",
    "        for r in range(rows):\n",
    "            if self.grid.getGrid()[r][col] == piece: \n",
    "                count += 1 \n",
    "            else:\n",
    "                count = 0 \n",
    "            if count == self.connectN:\n",
    "                return True \n",
    "\n",
    "        return False \n",
    "        \n",
    "    def playMove(self, player):\n",
    "        self.printBoard() \n",
    "        print(player.getName() + \" turn\")\n",
    "        columnCount = self.grid.getColumns() \n",
    "        moveColumn = int(input(\"Enter column number \"))\n",
    "        moveRow = self.grid.placePiece(moveColumn, player.getPieceColor())\n",
    "\n",
    "        while moveRow == None: \n",
    "            moveRow = self.grid.placePiece(moveColumn, player.getPieceColor())\n",
    "        \n",
    "        return (moveRow, moveColumn) \n",
    "        \n",
    "    def playRound(self):\n",
    "        while True: \n",
    "            for player in self.players: \n",
    "                row, col = self.playMove(player) \n",
    "                pieceColor = player.getPieceColor() \n",
    "                if self.checkWin(row, col, pieceColor):\n",
    "                    self.score[player.getName()] += 1 \n",
    "                    return player \n",
    "\n",
    "    def play(self):\n",
    "        maxScore = 0 \n",
    "        winne = None \n",
    "        while maxScore < self.targetScore: \n",
    "            winner = self.playRound() \n",
    "            print(winner.getName() + \" won the round\")\n",
    "            print()\n",
    "            maxScore = max(self.score[winner.getName()], maxScore)\n",
    "\n",
    "            self.grid.initGrid() \n",
    "\n",
    "        print(winner.getName() + \" won the game\")"
   ]
  },
  {
   "cell_type": "code",
   "execution_count": 116,
   "id": "94f2f233-f314-4cd9-b7af-3d1951c42e07",
   "metadata": {},
   "outputs": [],
   "source": [
    "grid = Grid(6, 7)\n"
   ]
  },
  {
   "cell_type": "code",
   "execution_count": 117,
   "id": "c770a26d-f9bb-4117-a6c2-37e6558ac2d5",
   "metadata": {},
   "outputs": [],
   "source": [
    "game = Game(grid, 4, 2)"
   ]
  },
  {
   "cell_type": "code",
   "execution_count": null,
   "id": "8faedc20-2cde-4456-ae17-0882f7945edd",
   "metadata": {},
   "outputs": [
    {
     "name": "stdout",
     "output_type": "stream",
     "text": [
      "Board\n",
      "0 0 0 0 0 0 0 \n",
      "0 0 0 0 0 0 0 \n",
      "0 0 0 0 0 0 0 \n",
      "0 0 0 0 0 0 0 \n",
      "0 0 0 0 0 0 0 \n",
      "0 0 0 0 0 0 0 \n",
      "\n",
      "Player 1 turn\n"
     ]
    }
   ],
   "source": [
    "game.play() "
   ]
  },
  {
   "cell_type": "code",
   "execution_count": null,
   "id": "353b716c-91db-45e1-b1cf-ae4343bf7421",
   "metadata": {},
   "outputs": [],
   "source": []
  }
 ],
 "metadata": {
  "kernelspec": {
   "display_name": "Python 3 (ipykernel)",
   "language": "python",
   "name": "python3"
  },
  "language_info": {
   "codemirror_mode": {
    "name": "ipython",
    "version": 3
   },
   "file_extension": ".py",
   "mimetype": "text/x-python",
   "name": "python",
   "nbconvert_exporter": "python",
   "pygments_lexer": "ipython3",
   "version": "3.13.2"
  }
 },
 "nbformat": 4,
 "nbformat_minor": 5
}
